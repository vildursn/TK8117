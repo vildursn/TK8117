{
 "cells": [
  {
   "cell_type": "markdown",
   "metadata": {},
   "source": [
    "# Machine learning analysis\n"
   ]
  },
  {
   "cell_type": "code",
   "execution_count": 2,
   "metadata": {},
   "outputs": [],
   "source": [
    "import numpy as np\n",
    "import pandas as pd\n",
    "import matplotlib.pyplot as plt\n",
    "from matplotlib import rcParams\n",
    "from matplotlib.cm import rainbow\n",
    "%matplotlib inline\n",
    "from sklearn.model_selection import train_test_split\n",
    "from sklearn.preprocessing import StandardScaler\n",
    "\n",
    "from sklearn.neural_network import MLPClassifier"
   ]
  },
  {
   "cell_type": "code",
   "execution_count": 3,
   "metadata": {},
   "outputs": [
    {
     "name": "stdout",
     "output_type": "stream",
     "text": [
      "<class 'pandas.core.frame.DataFrame'>\n",
      "RangeIndex: 303 entries, 0 to 302\n",
      "Data columns (total 14 columns):\n",
      "Age                        303 non-null int64\n",
      "Gender                     303 non-null int64\n",
      "Chest pain type            303 non-null int64\n",
      "Resting blood pressure     303 non-null int64\n",
      "Cholesterol                303 non-null int64\n",
      "Fasting blood sugar        303 non-null int64\n",
      "Resting ECG                303 non-null int64\n",
      "Maximum heart rate         303 non-null float64\n",
      "Exercise enduced angina    303 non-null int64\n",
      "Oldpeak(ECG)               303 non-null float64\n",
      "Slope(ECG)                 303 non-null int64\n",
      "Num. vessels               303 non-null float64\n",
      "Thalium trace              303 non-null float64\n",
      "Target                     303 non-null int64\n",
      "dtypes: float64(4), int64(10)\n",
      "memory usage: 33.3 KB\n"
     ]
    }
   ],
   "source": [
    "data_filled = pd.read_excel(r\"/home/vildeg/Code/heart_org_missing_filled.xlsx\")\n",
    "data_del =pd.read_excel(r\"/home/vildeg/Code/heart_org_missing_deleted.xlsx\")\n",
    "data_OHE = pd.read_excel(r\"/home/vildeg/Code/heart_OHE_missing_filled.xlsx\")\n",
    "\n",
    "data_filled.info()"
   ]
  },
  {
   "cell_type": "code",
   "execution_count": 4,
   "metadata": {},
   "outputs": [],
   "source": [
    "y_f = data_filled['Target']\n",
    "X_f = data_filled.drop(['Target'], axis = 1)\n",
    "X_f_train, X_f_test, y_f_train, y_f_test = train_test_split(X_f, y_f, test_size = 0.2, random_state = 0)\n",
    "\n",
    "#print(X_f_train)\n",
    "feature_f_names = list(data_filled.columns)\n",
    "feature_f_names.remove('Target')\n",
    "target_f_names = 'Target'\n"
   ]
  },
  {
   "cell_type": "markdown",
   "metadata": {},
   "source": [
    "## Supervised learning"
   ]
  },
  {
   "cell_type": "code",
   "execution_count": 5,
   "metadata": {},
   "outputs": [
    {
     "name": "stdout",
     "output_type": "stream",
     "text": [
      "0.8524590163934426\n"
     ]
    }
   ],
   "source": [
    "h_l_sizes = (2,5) #2 layers, med 5 noder.\n",
    "mlp_classifier = MLPClassifier(solver='adam', alpha=1e-5,hidden_layer_sizes=h_l_sizes, random_state=1, max_iter=10000)\n",
    "mlp_classifier.fit(X_f_train, y_f_train)\n",
    "score = mlp_classifier.score( X_f_test, y_f_test)\n",
    "print(score)"
   ]
  },
  {
   "cell_type": "markdown",
   "metadata": {},
   "source": [
    "### Deciding on arcitechture (adam)"
   ]
  },
  {
   "cell_type": "code",
   "execution_count": 6,
   "metadata": {},
   "outputs": [],
   "source": [
    "score = []\n",
    "hidden_layer_sizes = []\n",
    "\n",
    "for i in range(1,10):\n",
    "    for j in range (2,10):\n",
    "        hidden_layer_sizes.append((i,j))\n",
    "        mlp_classifier = MLPClassifier(solver='adam', alpha=1e-5,hidden_layer_sizes=(i,j), random_state=1, max_iter=10000)\n",
    "        mlp_classifier.fit(X_f_train, y_f_train)\n",
    "        score.append(mlp_classifier.score( X_f_test, y_f_test))\n",
    "        "
   ]
  },
  {
   "cell_type": "code",
   "execution_count": 7,
   "metadata": {},
   "outputs": [
    {
     "name": "stdout",
     "output_type": "stream",
     "text": [
      "(5, 5)  :  0.8852459016393442\n",
      "(7, 6)  :  0.8688524590163934\n",
      "(7, 7)  :  0.8688524590163934\n",
      "(9, 5)  :  0.8688524590163934\n",
      "(2, 5)  :  0.8524590163934426\n",
      "(3, 6)  :  0.8524590163934426\n",
      "(6, 5)  :  0.8524590163934426\n",
      "(6, 7)  :  0.8524590163934426\n",
      "(8, 5)  :  0.8524590163934426\n",
      "(8, 6)  :  0.8524590163934426\n",
      "(5, 4)  :  0.8360655737704918\n",
      "(6, 3)  :  0.8360655737704918\n",
      "(7, 3)  :  0.8360655737704918\n",
      "(8, 8)  :  0.8360655737704918\n",
      "(9, 6)  :  0.8360655737704918\n"
     ]
    },
    {
     "data": {
      "text/plain": [
       "<BarContainer object of 15 artists>"
      ]
     },
     "execution_count": 7,
     "metadata": {},
     "output_type": "execute_result"
    },
    {
     "data": {
      "image/png": "[encoded data removed]",
      "text/plain": [
       "<Figure size 432x288 with 1 Axes>"
      ]
     },
     "metadata": {
      "needs_background": "light"
     },
     "output_type": "display_data"
    }
   ],
   "source": [
    "colors = rainbow(np.linspace(0, 1, int(len(score)/5)))\n",
    "\n",
    "top_5 = (sorted(range(len(score)), key=lambda i: score[i], reverse = True)[:15])\n",
    "top_score = []\n",
    "top_size = []\n",
    "for i in top_5 :\n",
    "    top_score.append(score[i])\n",
    "    top_size.append(hidden_layer_sizes[i])\n",
    "    print(hidden_layer_sizes[i], \" : \", score[i])\n",
    "plt.bar(range(len(top_score)),top_score, color = colors)"
   ]
  },
  {
   "cell_type": "markdown",
   "metadata": {},
   "source": [
    "### Deciding on arcitechture(sgd)"
   ]
  },
  {
   "cell_type": "code",
   "execution_count": 8,
   "metadata": {},
   "outputs": [],
   "source": [
    "score = []\n",
    "hidden_layer_sizes = []\n",
    "\n",
    "for i in range(1,10):\n",
    "    for j in range (2,10):\n",
    "        hidden_layer_sizes.append((i,j))\n",
    "        mlp_classifier = MLPClassifier(solver='sgd', alpha=1e-5,hidden_layer_sizes=(i,j), random_state=1, max_iter=10000)\n",
    "        mlp_classifier.fit(X_f_train, y_f_train)\n",
    "        score.append(mlp_classifier.score( X_f_test, y_f_test))\n",
    "        "
   ]
  },
  {
   "cell_type": "code",
   "execution_count": 9,
   "metadata": {},
   "outputs": [
    {
     "name": "stdout",
     "output_type": "stream",
     "text": [
      "(9, 4)  :  0.7377049180327869\n",
      "(5, 7)  :  0.7213114754098361\n",
      "(7, 9)  :  0.7213114754098361\n",
      "(9, 6)  :  0.7213114754098361\n",
      "(3, 9)  :  0.7049180327868853\n",
      "(6, 8)  :  0.7049180327868853\n",
      "(8, 7)  :  0.7049180327868853\n",
      "(8, 9)  :  0.7049180327868853\n",
      "(3, 2)  :  0.6885245901639344\n",
      "(3, 8)  :  0.6885245901639344\n",
      "(5, 6)  :  0.6885245901639344\n",
      "(7, 4)  :  0.6885245901639344\n",
      "(8, 5)  :  0.6885245901639344\n",
      "(5, 4)  :  0.6557377049180327\n",
      "(7, 6)  :  0.6557377049180327\n"
     ]
    },
    {
     "data": {
      "text/plain": [
       "<BarContainer object of 15 artists>"
      ]
     },
     "execution_count": 9,
     "metadata": {},
     "output_type": "execute_result"
    },
    {
     "data": {
      "image/png": "[encoded data removed]",
      "text/plain": [
       "<Figure size 432x288 with 1 Axes>"
      ]
     },
     "metadata": {
      "needs_background": "light"
     },
     "output_type": "display_data"
    }
   ],
   "source": [
    "colors = rainbow(np.linspace(0, 1, int(len(score)/5)))\n",
    "\n",
    "top_5 = (sorted(range(len(score)), key=lambda i: score[i], reverse = True)[:15])\n",
    "top_score = []\n",
    "top_size = []\n",
    "for i in top_5 :\n",
    "    top_score.append(score[i])\n",
    "    top_size.append(hidden_layer_sizes[i])\n",
    "    print(hidden_layer_sizes[i], \" : \", score[i])\n",
    "plt.bar(range(len(top_score)),top_score, color = colors)"
   ]
  },
  {
   "cell_type": "code",
   "execution_count": 10,
   "metadata": {},
   "outputs": [],
   "source": [
    "scores_lr = []\n",
    "A = 0.001\n",
    "alphas = []\n",
    "for i in range(500):\n",
    "    mlp_classifier = MLPClassifier(solver='sgd', learning_rate = 'adaptive',learning_rate_init = A,hidden_layer_sizes=(9,4), random_state=1, max_iter=10000)\n",
    "    alphas.append(A)\n",
    "    A += 0.001\n",
    "    mlp_classifier.fit(X_f_train, y_f_train)\n",
    "    scores_lr.append(mlp_classifier.score( X_f_test, y_f_test))"
   ]
  },
  {
   "cell_type": "code",
   "execution_count": 11,
   "metadata": {},
   "outputs": [
    {
     "name": "stdout",
     "output_type": "stream",
     "text": [
      "0.002  :  0.7377049180327869\n",
      "0.001  :  0.7213114754098361\n",
      "0.004  :  0.5573770491803278\n",
      "0.005  :  0.5573770491803278\n",
      "0.006  :  0.5573770491803278\n",
      "0.007  :  0.5573770491803278\n",
      "0.008  :  0.5573770491803278\n",
      "0.009000000000000001  :  0.5573770491803278\n",
      "0.010000000000000002  :  0.5573770491803278\n",
      "0.011000000000000003  :  0.5573770491803278\n",
      "0.012000000000000004  :  0.5573770491803278\n",
      "0.013000000000000005  :  0.5573770491803278\n",
      "0.014000000000000005  :  0.5573770491803278\n",
      "0.015000000000000006  :  0.5573770491803278\n",
      "0.016000000000000007  :  0.5573770491803278\n"
     ]
    },
    {
     "data": {
      "text/plain": [
       "<BarContainer object of 15 artists>"
      ]
     },
     "execution_count": 11,
     "metadata": {},
     "output_type": "execute_result"
    },
    {
     "data": {
      "image/png": "[encoded data removed]",
      "text/plain": [
       "<Figure size 432x288 with 1 Axes>"
      ]
     },
     "metadata": {
      "needs_background": "light"
     },
     "output_type": "display_data"
    }
   ],
   "source": [
    "top_5 = (sorted(range(len(scores_lr)), key=lambda i: scores_lr[i], reverse = True)[:15])\n",
    "top_score = []\n",
    "top_size = []\n",
    "for i in top_5 :\n",
    "    top_score.append(scores_lr[i])\n",
    "    top_size.append(alphas[i])\n",
    "    print(alphas[i], \" : \", scores_lr[i])\n",
    "plt.bar(range(len(top_score)),top_score, color = colors)"
   ]
  },
  {
   "cell_type": "markdown",
   "metadata": {},
   "source": [
    "### Deciding on arcitechture(lbfg)"
   ]
  },
  {
   "cell_type": "code",
   "execution_count": 12,
   "metadata": {},
   "outputs": [],
   "source": [
    "score = []\n",
    "hidden_layer_sizes = []\n",
    "\n",
    "for i in range(1,10):\n",
    "    for j in range (2,10):\n",
    "        hidden_layer_sizes.append((i,j))\n",
    "        mlp_classifier = MLPClassifier(solver='lbfgs',hidden_layer_sizes=(i,j), random_state=1, max_iter=10000)\n",
    "        mlp_classifier.fit(X_f_train, y_f_train)\n",
    "        score.append(mlp_classifier.score( X_f_test, y_f_test))\n",
    "        "
   ]
  },
  {
   "cell_type": "code",
   "execution_count": 13,
   "metadata": {},
   "outputs": [
    {
     "name": "stdout",
     "output_type": "stream",
     "text": [
      "(3, 2)  :  0.8852459016393442\n",
      "(5, 5)  :  0.8852459016393442\n",
      "(9, 7)  :  0.8852459016393442\n",
      "(8, 8)  :  0.7868852459016393\n",
      "(7, 5)  :  0.7704918032786885\n",
      "(6, 9)  :  0.7213114754098361\n",
      "(4, 8)  :  0.7049180327868853\n",
      "(9, 4)  :  0.7049180327868853\n",
      "(3, 6)  :  0.6885245901639344\n",
      "(8, 4)  :  0.639344262295082\n",
      "(4, 3)  :  0.5901639344262295\n",
      "(1, 2)  :  0.5573770491803278\n",
      "(1, 3)  :  0.5573770491803278\n",
      "(1, 4)  :  0.5573770491803278\n",
      "(1, 5)  :  0.5573770491803278\n"
     ]
    },
    {
     "data": {
      "text/plain": [
       "<BarContainer object of 15 artists>"
      ]
     },
     "execution_count": 13,
     "metadata": {},
     "output_type": "execute_result"
    },
    {
     "data": {
      "image/png": "[encoded data removed]",
      "text/plain": [
       "<Figure size 432x288 with 1 Axes>"
      ]
     },
     "metadata": {
      "needs_background": "light"
     },
     "output_type": "display_data"
    }
   ],
   "source": [
    "colors = rainbow(np.linspace(0, 1, int(len(score)/5)))\n",
    "\n",
    "top_5 = (sorted(range(len(score)), key=lambda i: score[i], reverse = True)[:15])\n",
    "top_score = []\n",
    "top_size = []\n",
    "for i in top_5 :\n",
    "    top_score.append(score[i])\n",
    "    top_size.append(hidden_layer_sizes[i])\n",
    "    print(hidden_layer_sizes[i], \" : \", score[i])\n",
    "plt.bar(range(len(top_score)),top_score, color = colors)"
   ]
  },
  {
   "cell_type": "markdown",
   "metadata": {},
   "source": [
    "## Learning rates"
   ]
  },
  {
   "cell_type": "code",
   "execution_count": 14,
   "metadata": {},
   "outputs": [],
   "source": [
    "scores_lr = []\n",
    "A = 0.0038\n",
    "alphas = []\n",
    "for i in range(500):\n",
    "    mlp_classifier = MLPClassifier(solver='lbfgs', alpha=A,hidden_layer_sizes=(9,4), random_state=1, max_iter=10000)\n",
    "    alphas.append(A)\n",
    "    A += 1e-5\n",
    "    mlp_classifier.fit(X_f_train, y_f_train)\n",
    "    scores_lr.append(mlp_classifier.score( X_f_test, y_f_test))"
   ]
  },
  {
   "cell_type": "code",
   "execution_count": 15,
   "metadata": {},
   "outputs": [
    {
     "name": "stdout",
     "output_type": "stream",
     "text": [
      "0.0041499999999999905  :  0.9016393442622951\n",
      "0.004839999999999962  :  0.9016393442622951\n",
      "0.0054999999999999355  :  0.9016393442622951\n",
      "0.007209999999999866  :  0.9016393442622951\n",
      "0.004019999999999996  :  0.8852459016393442\n",
      "0.004049999999999995  :  0.8852459016393442\n",
      "0.00415999999999999  :  0.8852459016393442\n",
      "0.004239999999999987  :  0.8852459016393442\n",
      "0.004249999999999986  :  0.8852459016393442\n",
      "0.004319999999999984  :  0.8852459016393442\n",
      "0.004329999999999983  :  0.8852459016393442\n",
      "0.00439999999999998  :  0.8852459016393442\n",
      "0.004669999999999969  :  0.8852459016393442\n",
      "0.004719999999999967  :  0.8852459016393442\n",
      "0.004789999999999964  :  0.8852459016393442\n"
     ]
    },
    {
     "data": {
      "text/plain": [
       "<BarContainer object of 15 artists>"
      ]
     },
     "execution_count": 15,
     "metadata": {},
     "output_type": "execute_result"
    },
    {
     "data": {
      "image/png": "[encoded data removed]",
      "text/plain": [
       "<Figure size 432x288 with 1 Axes>"
      ]
     },
     "metadata": {
      "needs_background": "light"
     },
     "output_type": "display_data"
    }
   ],
   "source": [
    "top_5 = (sorted(range(len(scores_lr)), key=lambda i: scores_lr[i], reverse = True)[:15])\n",
    "top_score = []\n",
    "top_size = []\n",
    "for i in top_5 :\n",
    "    top_score.append(scores_lr[i])\n",
    "    top_size.append(alphas[i])\n",
    "    print(alphas[i], \" : \", scores_lr[i])\n",
    "plt.bar(range(len(top_score)),top_score, color = colors)"
   ]
  },
  {
   "cell_type": "markdown",
   "metadata": {},
   "source": [
    "## Hyperparameters\n"
   ]
  },
  {
   "cell_type": "code",
   "execution_count": 16,
   "metadata": {},
   "outputs": [],
   "source": [
    "solver = 'lbfgs'\n",
    "lr_init = 0.0001\n",
    "alpha_ = 0.0041\n",
    "hidden_size = (9,4)"
   ]
  },
  {
   "cell_type": "code",
   "execution_count": 18,
   "metadata": {},
   "outputs": [
    {
     "name": "stdout",
     "output_type": "stream",
     "text": [
      "0.8688524590163934\n"
     ]
    }
   ],
   "source": [
    "mlp_classifier = MLPClassifier(solver='lbfgs', alpha= alpha_,hidden_layer_sizes= hidden_size, random_state=1, max_iter=10000)\n",
    "mlp_classifier.fit(X_f_train, y_f_train)\n",
    "print(mlp_classifier.score( X_f_test, y_f_test))"
   ]
  },
  {
   "cell_type": "markdown",
   "metadata": {},
   "source": [
    "# Compare all modes"
   ]
  },
  {
   "cell_type": "markdown",
   "metadata": {},
   "source": []
  }
 ],
 "metadata": {
  "kernelspec": {
   "display_name": "Python 3",
   "language": "python",
   "name": "python3"
  },
  "language_info": {
   "codemirror_mode": {
    "name": "ipython",
    "version": 3
   },
   "file_extension": ".py",
   "mimetype": "text/x-python",
   "name": "python",
   "nbconvert_exporter": "python",
   "pygments_lexer": "ipython3",
   "version": "3.6.9"
  }
 },
 "nbformat": 4,
 "nbformat_minor": 2
}
