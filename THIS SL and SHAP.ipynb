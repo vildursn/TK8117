{
 "cells": [
  {
   "cell_type": "markdown",
   "metadata": {},
   "source": [
    "# SHAP"
   ]
  },
  {
   "cell_type": "markdown",
   "metadata": {},
   "source": [
    "## Initialization and training of model"
   ]
  },
  {
   "cell_type": "code",
   "execution_count": 1,
   "metadata": {},
   "outputs": [],
   "source": [
    "import numpy as np\n",
    "import pandas as pd\n",
    "import matplotlib.pyplot as plt\n",
    "from matplotlib import rcParams\n",
    "from matplotlib.cm import rainbow\n",
    "#%matplotlib inline\n",
    "from sklearn.model_selection import train_test_split\n",
    "from sklearn.preprocessing import StandardScaler\n",
    "from sklearn.neural_network import MLPClassifier\n",
    "import pickle\n",
    "\n",
    "\n",
    "data_del =pd.read_excel(r\"/home/vildeg/Code/heart_org_missing_deleted.xlsx\")\n",
    "data_OHE = pd.read_excel(r\"/home/vildeg/Code/heart_OHE_missing_filled.xlsx\")\n",
    "#feature_names = data_OHE.names()\n",
    "feature_names = list(data_OHE.columns)\n",
    "feature_names.remove('Target')\n",
    "target_names = 'Target'\n",
    "\n",
    "\n",
    "standardScaler = StandardScaler()\n",
    "columns_to_scale = ['Age', 'Resting blood pressure', 'Cholesterol', 'Maximum heart rate', 'Oldpeak(ECG)']\n",
    "data_OHE[columns_to_scale] = standardScaler.fit_transform(data_OHE[columns_to_scale])\n",
    "data_del[columns_to_scale] = standardScaler.fit_transform(data_del[columns_to_scale])\n",
    "\n",
    "\n",
    "y = data_del['Target']\n",
    "X = data_del.drop(['Target'], axis = 1)\n",
    "X_train, X_test, y_train, y_test = train_test_split(X, y, test_size = 0.2, random_state = 0)\n",
    "\n",
    "y_= data_OHE['Target']\n",
    "X_= data_OHE.drop(['Target'], axis = 1)\n",
    "X_OHE_train, X_OHE_test, y_OHE_train, y_OHE_test = train_test_split(X_, y_, test_size = 0.2, random_state = 1)\n"
   ]
  },
  {
   "cell_type": "markdown",
   "metadata": {},
   "source": [
    "## Supervised learning"
   ]
  },
  {
   "cell_type": "code",
   "execution_count": 2,
   "metadata": {},
   "outputs": [
    {
     "name": "stdout",
     "output_type": "stream",
     "text": [
      "0.9\n"
     ]
    }
   ],
   "source": [
    "activation = 'relu'\n",
    "solver = 'lbfgs'\n",
    "learning_rates= 'adaptive'\n",
    "hls = (6,8)\n",
    "max_score = 0\n",
    "for i in range(0,100):\n",
    "    mlp_classifier = MLPClassifier(solver=solver, activation = activation, learning_rate = learning_rates,hidden_layer_sizes=hls, max_iter=20000, early_stopping = True)\n",
    "    mlp_classifier.fit(X_train, y_train)\n",
    "    score = mlp_classifier.score( X_test, y_test)\n",
    "    if score > max_score:\n",
    "        max_score = score\n",
    "        best_model = mlp_classifier\n",
    "        \n",
    "print(max_score)"
   ]
  },
  {
   "cell_type": "code",
   "execution_count": 3,
   "metadata": {},
   "outputs": [
    {
     "name": "stdout",
     "output_type": "stream",
     "text": [
      "0.9166666666666666\n"
     ]
    }
   ],
   "source": [
    "activation = 'relu'\n",
    "solver = 'lbfgs'\n",
    "learning_rates= 'adaptive'\n",
    "hls = (6,8)\n",
    "for i in range(0,100):\n",
    "    mlp_classifier = MLPClassifier(solver=solver, activation = activation, learning_rate = learning_rates,hidden_layer_sizes=hls, max_iter=20000, early_stopping = True)\n",
    "    mlp_classifier.fit(X_train, y_train)\n",
    "    score = mlp_classifier.score( X_test, y_test)\n",
    "    if score > max_score:\n",
    "        max_score = score\n",
    "        best_model2 = mlp_classifier\n",
    "        break\n",
    "        \n",
    "print(max_score)"
   ]
  },
  {
   "cell_type": "code",
   "execution_count": 4,
   "metadata": {},
   "outputs": [
    {
     "ename": "NameError",
     "evalue": "name 'best_model2' is not defined",
     "output_type": "error",
     "traceback": [
      "\u001b[0;31m---------------------------------------------------------------------------\u001b[0m",
      "\u001b[0;31mNameError\u001b[0m                                 Traceback (most recent call last)",
      "\u001b[0;32m<ipython-input-4-336de121e4e6>\u001b[0m in \u001b[0;36m<module>\u001b[0;34m\u001b[0m\n\u001b[1;32m      1\u001b[0m \u001b[0mfilename\u001b[0m \u001b[0;34m=\u001b[0m \u001b[0;34m'sl_model_91_6.sav'\u001b[0m\u001b[0;34m\u001b[0m\u001b[0;34m\u001b[0m\u001b[0m\n\u001b[0;32m----> 2\u001b[0;31m \u001b[0mpickle\u001b[0m\u001b[0;34m.\u001b[0m\u001b[0mdump\u001b[0m\u001b[0;34m(\u001b[0m\u001b[0mbest_model2\u001b[0m\u001b[0;34m,\u001b[0m \u001b[0mopen\u001b[0m\u001b[0;34m(\u001b[0m\u001b[0mfilename\u001b[0m\u001b[0;34m,\u001b[0m \u001b[0;34m'wb'\u001b[0m\u001b[0;34m)\u001b[0m\u001b[0;34m)\u001b[0m\u001b[0;34m\u001b[0m\u001b[0;34m\u001b[0m\u001b[0m\n\u001b[0m",
      "\u001b[0;31mNameError\u001b[0m: name 'best_model2' is not defined"
     ]
    }
   ],
   "source": [
    "filename = 'sl_model_91_6.sav'\n",
    "pickle.dump(best_model2, open(filename, 'wb'))"
   ]
  },
  {
   "cell_type": "markdown",
   "metadata": {},
   "source": [
    "## Supervised learning on OHE-data"
   ]
  },
  {
   "cell_type": "code",
   "execution_count": null,
   "metadata": {},
   "outputs": [],
   "source": [
    "activation = 'relu'\n",
    "solver = 'lbfgs'\n",
    "learning_rates= 'adaptive'\n",
    "hls = (6,8)\n",
    "max_score = 0\n",
    "for i in range(0,100):\n",
    "    mlp_classifier = MLPClassifier(solver=solver, activation = activation, learning_rate = learning_rates,hidden_layer_sizes=hls, max_iter=20000, early_stopping = True)\n",
    "    mlp_classifier.fit(X_OHE_train, y_OHE_train)\n",
    "    score = mlp_classifier.score( X_OHE_test, y_OHE_test)\n",
    "    if score > max_score:\n",
    "        max_score = score\n",
    "        best_model_OHE = mlp_classifier\n",
    "        \n",
    "print(max_score)"
   ]
  },
  {
   "cell_type": "code",
   "execution_count": null,
   "metadata": {},
   "outputs": [],
   "source": [
    "activation = 'relu'\n",
    "solver = 'lbfgs'\n",
    "learning_rates= 'adaptive'\n",
    "hls = (8,8)\n",
    "for i in range(0,10000):\n",
    "    mlp_classifier = MLPClassifier(solver=solver, activation = activation, learning_rate = learning_rates,hidden_layer_sizes=hls, max_iter=2000, early_stopping = True)\n",
    "    mlp_classifier.fit(X_OHE_train, y_OHE_train)\n",
    "    score = mlp_classifier.score( X_OHE_test, y_OHE_test)\n",
    "    if score > max_score:\n",
    "        max_score = score\n",
    "        best_model_OHE = mlp_classifier\n",
    "        break\n",
    "        \n",
    "print(max_score)"
   ]
  },
  {
   "cell_type": "markdown",
   "metadata": {},
   "source": [
    "## Explanations from SHAP\n",
    "fhgkgkkg"
   ]
  },
  {
   "cell_type": "code",
   "execution_count": null,
   "metadata": {},
   "outputs": [],
   "source": [
    "import shap\n",
    "shap.initjs() # Load JS visualization code to notebook\n"
   ]
  },
  {
   "cell_type": "code",
   "execution_count": null,
   "metadata": {},
   "outputs": [],
   "source": [
    "#np_X_train = X_f_train.to_numpy()\n",
    "#explainer = shap.KernelExplainer(mlp_classifier.predict_proba(X_f_train),X_f_train )\n",
    "#np_X_train = X_f_train.to_numpy()\n",
    "explainer = shap.KernelExplainer(best_model2.predict_proba,X_train.mean() )"
   ]
  },
  {
   "cell_type": "code",
   "execution_count": null,
   "metadata": {},
   "outputs": [],
   "source": [
    "shap_values = explainer.shap_values(X_test, nsamples = \"auto\")"
   ]
  },
  {
   "cell_type": "code",
   "execution_count": null,
   "metadata": {
    "scrolled": true
   },
   "outputs": [],
   "source": [
    "#shap.force_plot(explainer.expected_value, shap_values[0],X_f_test[0])\n",
    "\n",
    "shap.summary_plot(shap_values= shap_values, features = X_f_train, feature_names = feature_f_names, show=False)\n",
    "plt.savefig(\"shap.png\")"
   ]
  },
  {
   "cell_type": "markdown",
   "metadata": {},
   "source": []
  },
  {
   "cell_type": "code",
   "execution_count": null,
   "metadata": {},
   "outputs": [],
   "source": []
  },
  {
   "cell_type": "code",
   "execution_count": null,
   "metadata": {},
   "outputs": [],
   "source": []
  }
 ],
 "metadata": {
  "kernelspec": {
   "display_name": "Python 3",
   "language": "python",
   "name": "python3"
  },
  "language_info": {
   "codemirror_mode": {
    "name": "ipython",
    "version": 3
   },
   "file_extension": ".py",
   "mimetype": "text/x-python",
   "name": "python",
   "nbconvert_exporter": "python",
   "pygments_lexer": "ipython3",
   "version": "3.6.9"
  }
 },
 "nbformat": 4,
 "nbformat_minor": 2
}
